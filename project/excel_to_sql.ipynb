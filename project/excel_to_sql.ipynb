{
 "cells": [
  {
   "cell_type": "code",
   "execution_count": 2,
   "metadata": {},
   "outputs": [],
   "source": [
    "from sqlite3 import connect\n",
    "import numpy as np\n",
    "import pandas as pd \n",
    "from sqlalchemy import create_engine\n",
    "\n"
   ]
  },
  {
   "cell_type": "code",
   "execution_count": 3,
   "metadata": {},
   "outputs": [],
   "source": [
    "def read_excel(path,sheet_name):\n",
    "    df = pd.read_excel(io = path,sheet_name =sheet_name,  header = 0,index_col=None,)\n",
    "    # df = df.astype(object).replace(np.nan, '')\n",
    "    return df\n",
    "\n",
    "def to_sql(path):\n",
    "    df.to_json(path_or_buf =path , orient=\"records\")\n",
    " \n",
    "\n",
    "def get_patch_to(file):\n",
    "    return '../db/'+file+'.db'\n",
    "\n",
    "def get_patch_from(file):\n",
    "    return '../excel/'+file+'.xlsx'\n",
    "\n",
    "def change_types(df,columnType):\n",
    "    for k, v in columnType.items(): \n",
    "        df[k] = df[k].astype(v)\n",
    "\n",
    "         "
   ]
  },
  {
   "cell_type": "markdown",
   "metadata": {},
   "source": [
    "# Роли и потребности"
   ]
  },
  {
   "cell_type": "code",
   "execution_count": 4,
   "metadata": {},
   "outputs": [],
   "source": [
    "file_excel = 'Наполнение ЭГС'\n",
    "sheet_names = [\n",
    "    'Роли и потребности',\n",
    "\n",
    "               ]\n",
    "sheet_name = sheet_names[0]\n",
    "\n",
    "\n",
    "\n",
    "# ******************************\n",
    "patchFrom = get_patch_from(file_excel)\n",
    "\n",
    "\n",
    "df = read_excel(patchFrom, sheet_name)\n"
   ]
  },
  {
   "cell_type": "code",
   "execution_count": 5,
   "metadata": {},
   "outputs": [],
   "source": [
    "listNameColumns = list(df.columns)"
   ]
  },
  {
   "cell_type": "code",
   "execution_count": null,
   "metadata": {},
   "outputs": [],
   "source": [
    "\n",
    "{\n",
    "Приоритет\n",
    "1\n",
    "Роль\n",
    "2\n",
    "Описание роли\n",
    "3\n",
    "Охват роли\n",
    "4\n",
    "Сервис\n",
    "5\n",
    "Подроль\n",
    "6\n",
    "Исходная потребность\n",
    "7\n",
    "Сокращенная потребность\n",
    "8\n",
    "Активные\n",
    "9\n",
    "Потенциальные\n",
    "10\n",
    "Частота возникновения\n",
    "11\n",
    "Примечание к частоте\n",
    "12\n",
    "Ссылка на переход в обсуждение этой роли в ветку ВК\n",
    "13\n",
    "Ответственный"
   ]
  },
  {
   "cell_type": "code",
   "execution_count": 9,
   "metadata": {},
   "outputs": [],
   "source": [
    "\n",
    "engine = create_engine('sqlite:///../db/thread.db', echo=False)\n",
    "df.to_sql(sheet_name, con=engine, if_exists='replace', index=False)"
   ]
  },
  {
   "cell_type": "code",
   "execution_count": 10,
   "metadata": {},
   "outputs": [],
   "source": [
    "\n",
    "# conn = connect(pathTo)\n",
    "# query ='SELECT pitch FROM m_thread_tolerance'\n",
    "# df_sql = pd.read_sql(query, conn)"
   ]
  }
 ],
 "metadata": {
  "interpreter": {
   "hash": "858487fbf8fb79ac1a28dd575800f00f3f83fd14f81cb97acd7cb0181ca6578f"
  },
  "kernelspec": {
   "display_name": "Python 3.9.7 ('base')",
   "language": "python",
   "name": "python3"
  },
  "language_info": {
   "codemirror_mode": {
    "name": "ipython",
    "version": 3
   },
   "file_extension": ".py",
   "mimetype": "text/x-python",
   "name": "python",
   "nbconvert_exporter": "python",
   "pygments_lexer": "ipython3",
   "version": "3.9.7"
  },
  "orig_nbformat": 4
 },
 "nbformat": 4,
 "nbformat_minor": 2
}
